{
 "cells": [
  {
   "cell_type": "markdown",
   "metadata": {},
   "source": [
    "When the EM algorithm convergences, we would have\n",
    "$$M=\\sum_{i=1}^m \\sum_{z^{(i)}} Q_i^*(z^i)\\log\\frac {p(x^{(i)},z^{(i)};\\theta)}{Q_i^*(z^{(i)})}$$"
   ]
  },
  {
   "cell_type": "markdown",
   "metadata": {},
   "source": [
    "where \n",
    "$$Q_i^*(z^{i})=p(z^{(i)}|x^{(i)};\\theta^*)=\\frac {p(x^{(i)},z^{(i)};\\theta^*)} {p(x^{(i)};\\theta^*)}$$\n",
    "Since $\\theta$ now equals $\\theta^*$, $Q_i^*(z^{i})$ is now indepent of $\\theta$."
   ]
  },
  {
   "cell_type": "markdown",
   "metadata": {},
   "source": [
    "Now we can have the following:\n",
    "\\begin{align*}\n",
    "\\nabla_\\theta M\n",
    "&=\\sum_{i=1}^m \\sum_{z^{(i)}} Q_i^*(z^i)\\frac {Q_i^*(z^{(i)})}{p(x^{(i)},z^{(i)};\\theta)}\\frac\n",
    "{1}{ Q_i^*(z^i)} \\nabla_\\theta p(x^{(i)},z^{(i)};\\theta)\\\\\n",
    "&= \\sum_{i=1}^m\\sum_{z^{(i)}} \\frac{p(x^{(i)}, z^{(i)}; \\theta^*)}{p(x^{(i)}; \\theta^*)} \\frac{\\nabla_{\\theta}p(x^{(i)}, z^{(i)};\\theta)}{p(x^{(i)}, z^{(i)};\\theta)} \\\\\n",
    "\\end{align*}"
   ]
  },
  {
   "cell_type": "markdown",
   "metadata": {},
   "source": [
    "since now EM algorithm convergences, so we set $\\theta=\\theta^*$"
   ]
  },
  {
   "cell_type": "markdown",
   "metadata": {},
   "source": [
    "\\begin{align*}\n",
    "\\nabla_\\theta M |_{\\theta=\\theta^*}\n",
    "&= \\sum_{i=1}^m\\sum_{z^{(i)}} \\frac{p(x^{(i)}, z^{(i)}; \\theta^*)}{p(x^{(i)}; \\theta^*)}\\frac{\\nabla_{\\theta}p(x^{(i)}, z^{(i)};\\theta)|_{\\theta = \\theta^*}}{p(x^{(i)}, z^{(i)};\\theta^*)} \\\\\n",
    "&= \\sum_{i=1}^m\\sum_{z^{(i)}} \\frac{\\nabla_{\\theta}p(x^{(i)}, z^{(i)};\\theta)|_{\\theta = \\theta^*}}{p(x^{(i)}; \\theta^*)} \\\\\n",
    "&= \\sum_{i=1}^m \\frac{\\nabla_{\\theta}p(x^{(i)}, \\theta)|_{\\theta = \\theta^*}}{p(x^{(i)}; \\theta^*)} \\\\\n",
    "&= \\sum_{i=1}^m \\nabla_{\\theta} \\log p(x^{(i)}; \\theta)|_{\\theta = \\theta^*} \\\\\n",
    "&= \\nabla_{\\theta}  \\sum_{i=1}^m \\log p(x^{(i)}; \\theta)|_{\\theta = \\theta^*} \\\\\n",
    "&= \\nabla_{\\theta} \\ell(\\theta) \\\\\n",
    "&= 0\n",
    "\\end{align*}"
   ]
  },
  {
   "cell_type": "markdown",
   "metadata": {},
   "source": [
    "Therefore, when EM algorithm converges, we would have indeed maximized the log-marginal of the data"
   ]
  }
 ],
 "metadata": {
  "kernelspec": {
   "display_name": "Python 3",
   "language": "python",
   "name": "python3"
  },
  "language_info": {
   "codemirror_mode": {
    "name": "ipython",
    "version": 3
   },
   "file_extension": ".py",
   "mimetype": "text/x-python",
   "name": "python",
   "nbconvert_exporter": "python",
   "pygments_lexer": "ipython3",
   "version": "3.6.7"
  }
 },
 "nbformat": 4,
 "nbformat_minor": 2
}

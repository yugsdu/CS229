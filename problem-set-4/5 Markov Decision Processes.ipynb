{
 "cells": [
  {
   "cell_type": "markdown",
   "metadata": {},
   "source": [
    "#### (a) Show that the Bellman update operator is a \"$\\gamma$-constraction in the max-norm\""
   ]
  },
  {
   "cell_type": "markdown",
   "metadata": {},
   "source": [
    "Since \n",
    "$$\n",
    "\\left|\\left| V_1 - V_2 \\right| \\right|_{\\infty}=\\arg\\max_{s \\in S} \\left|V_1(s) - V_2(s) \\right| = s^*\n",
    "$$"
   ]
  },
  {
   "cell_type": "markdown",
   "metadata": {},
   "source": [
    "we can have the following:\n",
    "$$\n",
    "\\left|\\left| V_1 - V_2 \\right| \\right|_{\\infty} = V_1(s^*) - V_2(s^*)\n",
    "$$\n",
    "\n",
    "note that we just let $V_1(s^*)>V_2(s^*)$"
   ]
  },
  {
   "cell_type": "markdown",
   "metadata": {},
   "source": [
    "Similarity, we have the following:\n",
    "$$\\left|\\left|B(V_1) - B(V_2)\\right|\\right|_{\\infty}=\\arg\\max_{s \\in S} \\left|B(V_1)(s) - B(V_2)(s) \\right| =s^{\\#}$$"
   ]
  },
  {
   "cell_type": "markdown",
   "metadata": {},
   "source": [
    "thus we can have that:\n",
    "$$\\left|\\left|B(V_1) - B(V_2)\\right|\\right|_{\\infty}= B(V_1)(s^{\\#}) - B(V_2)(s^{\\#})$$"
   ]
  },
  {
   "cell_type": "markdown",
   "metadata": {},
   "source": [
    "Then, we can derivate the following:\n",
    "\n",
    "\\begin{align*}\n",
    "\\left|\\left|B(V_1) - B(V_2)\\right|\\right|_{\\infty} \n",
    "&= \\left| B(V_1)(s^{\\#}) - B(V_2)(s^{\\#}) \\right| \\\\\n",
    "&= B(V_1)(s^{\\#}) - B(V_2)(s^{\\#})  \\\\\n",
    "&= \\gamma \\bigg(\\max_{a \\in A} \\sum_{s' \\in S} p_{s^{\\#}a}(s')V_1(s') - \\max_{a \\in A} \\sum_{s' \\in S} p_{s^{\\#}a}(s')V_2(s') \\bigg) \\\\\n",
    "&= \\gamma \\bigg(\\sum_{s' \\in S} p_{s^{\\#}a_1}(s')V_1(s') - \\sum_{s' \\in S} p_{s^{\\#}a_2}(s')V_2(s') \\bigg) \\\\\n",
    "&= \\gamma \\sum_{s' \\in S} \\bigg(p_{s^{\\#}a_1}(s')V_1(s') - p_{s^{\\#}a_2}(s')V_2(s') \\bigg ) \\\\\n",
    "&\\le \\gamma \\sum_{s' \\in S} \\bigg(p_{s^{\\#}a_1}(s')V_1(s') - p_{s^{\\#}a_1}(s')V_2(s') \\bigg ) \\\\\n",
    "&= \\gamma \\sum_{s' \\in S} p_{s^{\\#}a_1}(s') \\bigg(V_1(s') - V_2(s') \\bigg ) \\\\\n",
    "&\\le \\gamma \\bigg(V_1(s^*) - V_2(s^*) \\bigg ) \\\\\n",
    "\\end{align*}"
   ]
  },
  {
   "cell_type": "markdown",
   "metadata": {},
   "source": [
    "#### (b) Prove that B has at most one fixed point"
   ]
  },
  {
   "cell_type": "markdown",
   "metadata": {},
   "source": [
    "Let's first assume that there are two fixed point $V_1$, $V_2$, then we have "
   ]
  },
  {
   "cell_type": "markdown",
   "metadata": {},
   "source": [
    "\\begin{align*}\n",
    "\\left|\\left|B(V_1) - B(V_2)\\right|\\right|_{\\infty} \n",
    "&= \\left|\\left|V_1 - V_2 \\right|\\right|_{\\infty} \\\\\n",
    "&\\le \\gamma \\left|\\left|V_1 - V_2 \\right|\\right|_{\\infty} \n",
    "\\end{align*}"
   ]
  },
  {
   "cell_type": "markdown",
   "metadata": {},
   "source": [
    "From the result of (a), we can get the inequality, however it cannot be satisfied, because $\\gamma < 1$, so the assumption is wrong, and there is at most only one fixed point. "
   ]
  }
 ],
 "metadata": {
  "kernelspec": {
   "display_name": "Python 3",
   "language": "python",
   "name": "python3"
  },
  "language_info": {
   "codemirror_mode": {
    "name": "ipython",
    "version": 3
   },
   "file_extension": ".py",
   "mimetype": "text/x-python",
   "name": "python",
   "nbconvert_exporter": "python",
   "pygments_lexer": "ipython3",
   "version": "3.6.7"
  }
 },
 "nbformat": 4,
 "nbformat_minor": 2
}

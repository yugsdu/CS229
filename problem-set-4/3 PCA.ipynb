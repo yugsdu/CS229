{
 "cells": [
  {
   "cell_type": "markdown",
   "metadata": {},
   "source": [
    "### PCA: another interpretation"
   ]
  },
  {
   "cell_type": "markdown",
   "metadata": {},
   "source": [
    "One interpretation of PCA is that PCA finds the \"variance maximizing\" directions onto which to project the data. Show another interpretation of PCA: show that the unit-lenth vector $u$ that minimizes the mean squared error between projected points and original points corresponds to the first principal component for the data."
   ]
  },
  {
   "cell_type": "markdown",
   "metadata": {},
   "source": [
    "The MSE error is following:\n",
    "$$L(u) = \\sum_{i=1}^m||x^{(i)}-f_u(x^{(i)})||_2^2=\\sum_{i=1}^m||x^{(i)}-(u^Tx^{(i)})u||_2^2$$"
   ]
  },
  {
   "cell_type": "markdown",
   "metadata": {},
   "source": [
    "Then we can get:\n",
    "\n",
    "\\begin{align*}\n",
    "L(u)\n",
    "&=\\sum_{i=1}^m||x^{(i)}-(u^Tx^{(i)})u||_2^2\\\\\n",
    "&=\\sum_{i=1}^m \\bigg((x^{(i)}-(u^Tx^{(i)})u)^T(x^{(i)}-(u^Tx^{(i)})u) \\bigg)\\\\\n",
    "&=\\sum_{i=1}^m \\bigg(({x^{(i)}}^T-u^T({x^{(i)}}^Tu))(x^{(i)}-(u^Tx^{(i)})u) \\bigg)\\\\\n",
    "&=\\sum_{i=1}^m \\bigg( (x^{(i)})^Tx^{(i)}-(x^{(i)})^T(u^Tx^{(i)})u-u^T((x^{(i)})^Tu)x^{(i)}+u^T((x^{(i)})^Tu)(u^Tx^{(i)})u \\bigg)\\\\\n",
    "&=\\sum_{i=1}^m \\bigg( (x^{(i)})^Tx^{(i)}-2(u^Tx^{(i)})^2+(u^Tu)(u^Tx^{(i)})^2 \\bigg)\\\\\n",
    "&=\\sum_{i=1}^m \\bigg( (x^{(i)})^Tx^{(i)}-(u^Tx^{(i)})^2\\bigg)\\\\\n",
    "&=\\sum_{i=1}^m ( (x^{(i)})^Tx^{(i)})-\\sum_{i=1}^m(u^Tx^{(i)})^2\\\\\n",
    "&\\simeq\\sum_{i=1}^m ( (x^{(i)})^Tx^{(i)})-(\\sum_{i=1}^m(u^Tx^{(i)}))^2-\\mathrm{var}(u^Tx^{(i)})\\\\\n",
    "\\end{align*}"
   ]
  },
  {
   "cell_type": "markdown",
   "metadata": {},
   "source": [
    "Note that the last inequality uses formula of variace. From this derivation, we can see that minimizes the mean squared error between projected points and original points corresponds to the first principal component for the data."
   ]
  }
 ],
 "metadata": {
  "kernelspec": {
   "display_name": "Python 3",
   "language": "python",
   "name": "python3"
  },
  "language_info": {
   "codemirror_mode": {
    "name": "ipython",
    "version": 3
   },
   "file_extension": ".py",
   "mimetype": "text/x-python",
   "name": "python",
   "nbconvert_exporter": "python",
   "pygments_lexer": "ipython3",
   "version": "3.6.7"
  }
 },
 "nbformat": 4,
 "nbformat_minor": 2
}

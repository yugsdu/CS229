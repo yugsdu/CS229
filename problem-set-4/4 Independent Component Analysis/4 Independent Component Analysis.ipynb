{
 "cells": [
  {
   "cell_type": "markdown",
   "metadata": {},
   "source": [
    "**Attention:** Note that the audio matrix is opposed to it in the lecture notes! That means the size[1] of audio matrix is the number of speakers in \"cocktail\" party."
   ]
  },
  {
   "cell_type": "code",
   "execution_count": 1,
   "metadata": {},
   "outputs": [],
   "source": [
    "### Independent Components Analysis\n",
    "###\n",
    "### This program requires a working installation of:\n",
    "###\n",
    "### On Mac:\n",
    "###     1. portaudio: On Mac: brew install portaudio\n",
    "###     2. sounddevice: pip install sounddevice\n",
    "###\n",
    "### On windows:\n",
    "###      pip install pyaudio sounddevice\n",
    "###\n",
    "\n",
    "import sounddevice as sd\n",
    "import numpy as np"
   ]
  },
  {
   "cell_type": "code",
   "execution_count": 2,
   "metadata": {},
   "outputs": [],
   "source": [
    "Fs = 11025\n",
    "\n",
    "def normalize(dat):\n",
    "    return 0.99 * dat / np.max(np.abs(dat))\n",
    "\n",
    "def load_data():\n",
    "    mix = np.loadtxt('mix.dat')\n",
    "    return mix # each column corresponding to one of the mixed signals xi\n",
    "\n",
    "def play(vec):\n",
    "    sd.play(vec, Fs, blocking=True)"
   ]
  },
  {
   "cell_type": "code",
   "execution_count": 3,
   "metadata": {},
   "outputs": [],
   "source": [
    "# first define its cumulative distribution function/cdf\n",
    "def sigmoid(x):\n",
    "    return 1/(1+np.exp(-x))"
   ]
  },
  {
   "cell_type": "code",
   "execution_count": 4,
   "metadata": {},
   "outputs": [],
   "source": [
    "def unmixer(X):\n",
    "    M, N = X.shape#MxN\n",
    "    W = np.eye(N) #NxN, memory error if eye(M)??\n",
    "\n",
    "    anneal = [0.1, 0.1, 0.1, 0.05, 0.05, 0.05, 0.02, 0.02, 0.01, 0.01,\n",
    "              0.005, 0.005, 0.002, 0.002, 0.001, 0.001]\n",
    "    print('Separating tracks ...')\n",
    "    ######## Your code here ##########\n",
    "    #update the parameter\n",
    "    for alpha in anneal:\n",
    "        print(\"we are at alpha: {0}\".format(alpha))\n",
    "        for x in X:\n",
    "            # compute array and array to get matrix\n",
    "            # method 1: use np.mat() changing array to matrix\n",
    "            deltW = (1-2*sigmoid(np.dot(W, np.mat(x).T))).dot(np.mat(x))+\\\n",
    "            np.linalg.inv(W.T)\n",
    "            # method2: use np.outer() to get array, both of them are of shape (len,)\n",
    "            #deltW = np.outer(1-2*sigmoid(np.dot(W, x.T)),x)+np.linalg.inv(W.T) # np.dot((2,3),(3,))==(2,)\n",
    "            W += alpha*deltW\n",
    "        \n",
    "    ###################################\n",
    "    return W"
   ]
  },
  {
   "cell_type": "code",
   "execution_count": 5,
   "metadata": {},
   "outputs": [],
   "source": [
    "def unmix(X, W):\n",
    "    S = np.zeros(X.shape)\n",
    "\n",
    "    ######### Your code here ##########\n",
    "    S = X.dot(W.T) # since now audio matrix is opposed to it in lecture, we use W.T to recover S\n",
    "    ##################################\n",
    "    return S"
   ]
  },
  {
   "cell_type": "code",
   "execution_count": 6,
   "metadata": {},
   "outputs": [],
   "source": [
    "X = normalize(load_data())"
   ]
  },
  {
   "cell_type": "code",
   "execution_count": 7,
   "metadata": {},
   "outputs": [
    {
     "name": "stdout",
     "output_type": "stream",
     "text": [
      "Playing mixed track 0\n",
      "Playing mixed track 1\n",
      "Playing mixed track 2\n",
      "Playing mixed track 3\n",
      "Playing mixed track 4\n"
     ]
    }
   ],
   "source": [
    "for i in range(X.shape[1]):\n",
    "        print('Playing mixed track %d' % i)\n",
    "        play(X[:, i]) # each column corresponding to one of the mixed signals xi"
   ]
  },
  {
   "cell_type": "code",
   "execution_count": 8,
   "metadata": {},
   "outputs": [
    {
     "name": "stdout",
     "output_type": "stream",
     "text": [
      "Separating tracks ...\n",
      "we are at alpha: 0.1\n",
      "we are at alpha: 0.1\n",
      "we are at alpha: 0.1\n",
      "we are at alpha: 0.05\n",
      "we are at alpha: 0.05\n",
      "we are at alpha: 0.05\n",
      "we are at alpha: 0.02\n",
      "we are at alpha: 0.02\n",
      "we are at alpha: 0.01\n",
      "we are at alpha: 0.01\n",
      "we are at alpha: 0.005\n",
      "we are at alpha: 0.005\n",
      "we are at alpha: 0.002\n",
      "we are at alpha: 0.002\n",
      "we are at alpha: 0.001\n",
      "we are at alpha: 0.001\n",
      "Wall time: 1min 15s\n"
     ]
    }
   ],
   "source": [
    "%time W = unmixer(X)\n"
   ]
  },
  {
   "cell_type": "code",
   "execution_count": 9,
   "metadata": {},
   "outputs": [],
   "source": [
    "S = normalize(unmix(X, W))"
   ]
  },
  {
   "cell_type": "code",
   "execution_count": 10,
   "metadata": {},
   "outputs": [
    {
     "name": "stdout",
     "output_type": "stream",
     "text": [
      "Playing separated track 0\n",
      "Playing separated track 1\n",
      "Playing separated track 2\n",
      "Playing separated track 3\n",
      "Playing separated track 4\n"
     ]
    }
   ],
   "source": [
    "# % clear audio are from movies:\n",
    "# % * Godfather\n",
    "# % * Southpark\n",
    "# % * Beethoven 5th\n",
    "# % * Austin Powers\n",
    "# % * Matrix (the movie, not the linear algebra construct :-) \n",
    "for i in range(S.shape[1]):\n",
    "        print('Playing separated track %d' % i)\n",
    "        play(S[:, i])"
   ]
  },
  {
   "cell_type": "code",
   "execution_count": null,
   "metadata": {},
   "outputs": [],
   "source": []
  }
 ],
 "metadata": {
  "kernelspec": {
   "display_name": "Python 3",
   "language": "python",
   "name": "python3"
  },
  "language_info": {
   "codemirror_mode": {
    "name": "ipython",
    "version": 3
   },
   "file_extension": ".py",
   "mimetype": "text/x-python",
   "name": "python",
   "nbconvert_exporter": "python",
   "pygments_lexer": "ipython3",
   "version": "3.6.7"
  }
 },
 "nbformat": 4,
 "nbformat_minor": 2
}

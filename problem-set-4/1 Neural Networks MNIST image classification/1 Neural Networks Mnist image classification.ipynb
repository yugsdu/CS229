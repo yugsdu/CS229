{
 "cells": [
  {
   "cell_type": "code",
   "execution_count": 1,
   "metadata": {},
   "outputs": [],
   "source": [
    "import numpy as np\n",
    "import matplotlib.pyplot as plt\n",
    "\n",
    "import pickle # to save parameters"
   ]
  },
  {
   "cell_type": "markdown",
   "metadata": {},
   "source": [
    "### (a)Implement both forward-propagation and back-propagation"
   ]
  },
  {
   "cell_type": "code",
   "execution_count": 2,
   "metadata": {},
   "outputs": [],
   "source": [
    "def readData(images_file, labels_file):\n",
    "    x = np.loadtxt(images_file, delimiter=',')\n",
    "    y = np.loadtxt(labels_file, delimiter=',')\n",
    "    return x, y"
   ]
  },
  {
   "cell_type": "code",
   "execution_count": 3,
   "metadata": {},
   "outputs": [],
   "source": [
    "def prepare_data():\n",
    "    np.random.seed(100)\n",
    "    trainData, trainLabels = readData('images_train.csv', 'labels_train.csv')\n",
    "    trainLabels = one_hot_labels(trainLabels)\n",
    "    p = np.random.permutation(60000)\n",
    "    trainData = trainData[p,:]\n",
    "    trainLabels = trainLabels[p,:]\n",
    "\n",
    "    devData = trainData[0:10000,:]\n",
    "    devLabels = trainLabels[0:10000,:]\n",
    "    trainData = trainData[10000:,:]\n",
    "    trainLabels = trainLabels[10000:,:]\n",
    "    #normalize each feature to have mean 0 and variance 1\n",
    "    mean = np.mean(trainData)\n",
    "    std = np.std(trainData)\n",
    "    trainData = (trainData - mean) / std\n",
    "    devData = (devData - mean) / std\n",
    "\n",
    "    testData, testLabels = readData('images_test.csv', 'labels_test.csv')\n",
    "    testLabels = one_hot_labels(testLabels)\n",
    "    testData = (testData - mean) / std\n",
    "    return trainData, trainLabels, devData, devLabels, testData, testLabels"
   ]
  },
  {
   "cell_type": "code",
   "execution_count": 4,
   "metadata": {},
   "outputs": [],
   "source": [
    "def softmax(x):\n",
    "    \"\"\"\n",
    "    Compute softmax function for input. \n",
    "    Use tricks from previous assignment to avoid overflow\n",
    "    \"\"\"\n",
    "    ### YOUR CODE HERE\n",
    "    # x: BXK, batchsizeXnumber of classes\n",
    "    c = np.max(x, axis=1, keepdims=True)\n",
    "    num = np.exp(x-c) #numerical stability\n",
    "    deno = np.sum(num, axis=1,keepdims=True)\n",
    "    s = num / deno\n",
    "    ### END YOUR CODE\n",
    "    return s"
   ]
  },
  {
   "cell_type": "code",
   "execution_count": 5,
   "metadata": {},
   "outputs": [],
   "source": [
    "def sigmoid(x):\n",
    "    \"\"\"\n",
    "    Compute the sigmoid function for the input here.\n",
    "    \"\"\"\n",
    "    ### YOUR CODE HERE\n",
    "    x = x.astype(np.float32)\n",
    "    s = 1/(1+np.exp(-x))\n",
    "    ### END YOUR CODE\n",
    "    return s"
   ]
  },
  {
   "cell_type": "code",
   "execution_count": 6,
   "metadata": {},
   "outputs": [],
   "source": [
    "def forward_prop(data, labels, params):\n",
    "    \"\"\"\n",
    "    return hidder layer, output(softmax) layer and loss\n",
    "    data: BX784\n",
    "    labels: BX10\n",
    "    \"\"\"\n",
    "    W1 = params['W1'] # 784XH\n",
    "    b1 = params['b1'] # BXH\n",
    "    W2 = params['W2'] # HX10\n",
    "    b2 = params['b2'] # BX10\n",
    "\n",
    "    ### YOUR CODE HERE\n",
    "    z1 = data.dot(W1)+b1\n",
    "    h = sigmoid(z1)\n",
    "    z2 = h.dot(W2)+b2\n",
    "    y = softmax(z2)\n",
    "    \n",
    "    loss = -np.multiply(labels, np.log(y+1e-12)).sum()\n",
    "    loss /= data.shape[0]\n",
    "    ### END YOUR CODE\n",
    "    return h, y, loss"
   ]
  },
  {
   "cell_type": "code",
   "execution_count": 7,
   "metadata": {},
   "outputs": [],
   "source": [
    "def backward_prop(data, labels, params):\n",
    "    \"\"\"\n",
    "    return gradient of parameters\n",
    "    \"\"\"\n",
    "    W1 = params['W1']\n",
    "    b1 = params['b1']\n",
    "    W2 = params['W2']\n",
    "    b2 = params['b2']\n",
    "\n",
    "    ### YOUR CODE HERE\n",
    "    h, y, cost = forward_prop(data, labels, params)\n",
    "    \n",
    "    delta1 = y-labels\n",
    "    gradW2 = np.dot(h.T, delta1)\n",
    "    gradb2 = np.sum(delta1, axis=0,keepdims=True)\n",
    "    \n",
    "    delta2 = np.dot(delta1,W2.T)*h*(1-h)#multiply\n",
    "    gradW1 = np.dot(data.T, delta2)\n",
    "    gradb1 = np.sum(delta2, axis=0,keepdims=True)\n",
    "    \n",
    "    # consider regularization\n",
    "    lam = params['lambda']\n",
    "    gradW2 += lam*W2\n",
    "    gradW1 += lam*W1\n",
    "    \n",
    "    B = data.shape[0]\n",
    "    gradW2 /= B\n",
    "    gradb2 /= B \n",
    "    gradW1 /= B \n",
    "    gradb1 /= B \n",
    "    ### END YOUR CODE\n",
    "\n",
    "    grad = {}\n",
    "    grad['W1'] = gradW1\n",
    "    grad['W2'] = gradW2\n",
    "    grad['b1'] = gradb1\n",
    "    grad['b2'] = gradb2\n",
    "\n",
    "    return grad"
   ]
  },
  {
   "cell_type": "code",
   "execution_count": 8,
   "metadata": {},
   "outputs": [],
   "source": [
    "def gradient_descent(params, grad, learning_rate):\n",
    "    params['W1'] -= learning_rate*grad['W1']\n",
    "    params['b1'] -= learning_rate*grad['b1']\n",
    "    params['W2'] -= learning_rate*grad['W2']\n",
    "    params['b2'] -= learning_rate*grad['b2']"
   ]
  },
  {
   "cell_type": "code",
   "execution_count": 9,
   "metadata": {},
   "outputs": [],
   "source": [
    "def nn_train(trainData, trainLabels, devData, devLabels,\\\n",
    "            num_hidden = 300,learning_rate = 5,batch_size = 1000,\\\n",
    "            num_epochs = 30,reg_strength=0):\n",
    "    (m, n) = trainData.shape\n",
    "    # add extra parameter options\n",
    "    params = {}\n",
    "\n",
    "    ### YOUR CODE HERE\n",
    "    K = trainLabels.shape[1] \n",
    "    H = num_hidden \n",
    "    B = batch_size\n",
    "    \n",
    "    params['W1'] = np.random.randn(n,H)\n",
    "    params['b1'] = np.zeros((1,H),dtype=float)\n",
    "    params['W2'] = np.random.randn(H,K)\n",
    "    params['b2'] = np.zeros((1,K),dtype=float)\n",
    "    params['lambda'] = reg_strength\n",
    "    \n",
    "    #print(type(params['W1']))\n",
    "    #print(params['W1'].shape)\n",
    "    \n",
    "    num_iter = int(m/B) # number of iterations per epoch\n",
    "    train_loss, train_acc, dev_loss,dev_acc = [],[],[],[]\n",
    "    for i in range(num_epochs):\n",
    "        print('epoch = ',i)\n",
    "        for j in range(num_iter):\n",
    "            batch_data = trainData[j*B:(j+1)*B]\n",
    "            batch_labels = trainLabels[j*B:(j+1)*B]\n",
    "            grad = backward_prop(batch_data,batch_labels,params)\n",
    "            gradient_descent(params,grad,learning_rate)\n",
    "        # calculate accuray per epoch\n",
    "        _, y, cost = forward_prop(trainData,trainLabels,params)\n",
    "        train_loss.append(cost)\n",
    "        train_acc.append(compute_accuracy(y, trainLabels))\n",
    "        _, y, cost = forward_prop(devData,devLabels,params)\n",
    "        dev_loss.append(cost)\n",
    "        dev_acc.append(compute_accuracy(y, devLabels))\n",
    "        \n",
    "        ### END YOUR CODE\n",
    "\n",
    "    return params, train_loss, train_acc, dev_loss, dev_acc"
   ]
  },
  {
   "cell_type": "code",
   "execution_count": 10,
   "metadata": {},
   "outputs": [],
   "source": [
    "def nn_test(data, labels, params):\n",
    "    h, output, cost = forward_prop(data, labels, params)\n",
    "    accuracy = compute_accuracy(output, labels)\n",
    "    return accuracy\n",
    "\n",
    "def compute_accuracy(output, labels):\n",
    "    accuracy = (np.argmax(output,axis=1) == np.argmax(labels,axis=1)).sum() * 1. / labels.shape[0]\n",
    "    return accuracy\n",
    "\n",
    "def one_hot_labels(labels):\n",
    "    one_hot_labels = np.zeros((labels.size, 10))\n",
    "    one_hot_labels[np.arange(labels.size),labels.astype(int)] = 1\n",
    "    return one_hot_labels"
   ]
  },
  {
   "cell_type": "code",
   "execution_count": 11,
   "metadata": {},
   "outputs": [
    {
     "name": "stdout",
     "output_type": "stream",
     "text": [
      "Wall time: 31.4 s\n"
     ]
    }
   ],
   "source": [
    "# download dataset and observe time consuming\n",
    "%time trainData, trainLabels, devData, devLabels, testData, testLabels = prepare_data()"
   ]
  },
  {
   "cell_type": "code",
   "execution_count": 12,
   "metadata": {},
   "outputs": [
    {
     "name": "stdout",
     "output_type": "stream",
     "text": [
      "epoch =  0\n"
     ]
    },
    {
     "name": "stderr",
     "output_type": "stream",
     "text": [
      "D:\\anaconda\\anacondaInstall\\envs\\py36\\lib\\site-packages\\ipykernel_launcher.py:7: RuntimeWarning: overflow encountered in exp\n",
      "  import sys\n"
     ]
    },
    {
     "name": "stdout",
     "output_type": "stream",
     "text": [
      "epoch =  1\n",
      "epoch =  2\n",
      "epoch =  3\n",
      "epoch =  4\n",
      "epoch =  5\n",
      "epoch =  6\n",
      "epoch =  7\n",
      "epoch =  8\n",
      "epoch =  9\n",
      "epoch =  10\n",
      "epoch =  11\n",
      "epoch =  12\n",
      "epoch =  13\n",
      "epoch =  14\n",
      "epoch =  15\n",
      "epoch =  16\n",
      "epoch =  17\n",
      "epoch =  18\n",
      "epoch =  19\n",
      "epoch =  20\n",
      "epoch =  21\n",
      "epoch =  22\n",
      "epoch =  23\n",
      "epoch =  24\n",
      "epoch =  25\n",
      "epoch =  26\n",
      "epoch =  27\n",
      "epoch =  28\n",
      "epoch =  29\n"
     ]
    }
   ],
   "source": [
    "# trian our nn: parameters updation and track loss/accuracy \n",
    "params, train_loss, train_acc, dev_loss, dev_acc=\\\n",
    "nn_train(trainData, trainLabels, devData, devLabels)"
   ]
  },
  {
   "cell_type": "code",
   "execution_count": 13,
   "metadata": {},
   "outputs": [],
   "source": [
    "# save parameters\n",
    "with open('parameters_without_regularization.pkl','wb') as opf:\n",
    "    pickle.dump(params, opf)\n",
    "# load parameters\n",
    "#with open('parameters_without_regularization.pkl','rb') as inf:\n",
    "#    params = pickle.load(inf)"
   ]
  },
  {
   "cell_type": "code",
   "execution_count": 14,
   "metadata": {},
   "outputs": [
    {
     "data": {
      "image/png": "[encoded data removed]",
      "text/plain": [
       "<Figure size 864x288 with 2 Axes>"
      ]
     },
     "metadata": {
      "needs_background": "light"
     },
     "output_type": "display_data"
    }
   ],
   "source": [
    "xs = np.arange(30) #np.arange used to generate axis\n",
    "\n",
    "plt.figure(figsize=(12,4))\n",
    "plt.subplot(121)\n",
    "plt.plot(xs, train_loss, label='train loss')\n",
    "plt.plot(xs, dev_loss, label='dev loss')\n",
    "plt.legend()\n",
    "plt.xlabel('# epoch')\n",
    "plt.ylabel('loss')\n",
    "\n",
    "plt.subplot(122)\n",
    "plt.plot(xs, train_acc, label='train acc')\n",
    "plt.plot(xs, dev_acc, label='dev acc')\n",
    "plt.legend()\n",
    "plt.xlabel('# epoch')\n",
    "plt.ylabel('accuracy')\n",
    "\n",
    "plt.show()"
   ]
  },
  {
   "cell_type": "markdown",
   "metadata": {},
   "source": [
    "### (b) Add a regularization term to cross entropy loss"
   ]
  },
  {
   "cell_type": "code",
   "execution_count": 15,
   "metadata": {},
   "outputs": [
    {
     "name": "stdout",
     "output_type": "stream",
     "text": [
      "epoch =  0\n"
     ]
    },
    {
     "name": "stderr",
     "output_type": "stream",
     "text": [
      "D:\\anaconda\\anacondaInstall\\envs\\py36\\lib\\site-packages\\ipykernel_launcher.py:7: RuntimeWarning: overflow encountered in exp\n",
      "  import sys\n"
     ]
    },
    {
     "name": "stdout",
     "output_type": "stream",
     "text": [
      "epoch =  1\n",
      "epoch =  2\n",
      "epoch =  3\n",
      "epoch =  4\n",
      "epoch =  5\n",
      "epoch =  6\n",
      "epoch =  7\n",
      "epoch =  8\n",
      "epoch =  9\n",
      "epoch =  10\n",
      "epoch =  11\n",
      "epoch =  12\n",
      "epoch =  13\n",
      "epoch =  14\n",
      "epoch =  15\n",
      "epoch =  16\n",
      "epoch =  17\n",
      "epoch =  18\n",
      "epoch =  19\n",
      "epoch =  20\n",
      "epoch =  21\n",
      "epoch =  22\n",
      "epoch =  23\n",
      "epoch =  24\n",
      "epoch =  25\n",
      "epoch =  26\n",
      "epoch =  27\n",
      "epoch =  28\n",
      "epoch =  29\n"
     ]
    }
   ],
   "source": [
    "# trian our nn: parameters updation and track loss/accuracy \n",
    "params, train_loss, train_acc, dev_loss, dev_acc=\\\n",
    "nn_train(trainData, trainLabels, devData, devLabels,reg_strength=0.3)"
   ]
  },
  {
   "cell_type": "code",
   "execution_count": 16,
   "metadata": {},
   "outputs": [],
   "source": [
    "# save parameters\n",
    "with open('parameters_with_regularization.pkl','wb') as opf:\n",
    "    pickle.dump(params, opf)\n",
    "# load parameters\n",
    "#with open('parameters_with_regularization.pkl,'rb') as inf:\n",
    "#    params = pickle.load(inf)"
   ]
  },
  {
   "cell_type": "code",
   "execution_count": 17,
   "metadata": {},
   "outputs": [
    {
     "data": {
      "image/png": "[encoded data removed]",
      "text/plain": [
       "<Figure size 864x288 with 2 Axes>"
      ]
     },
     "metadata": {
      "needs_background": "light"
     },
     "output_type": "display_data"
    }
   ],
   "source": [
    "xs = np.arange(30)\n",
    "\n",
    "plt.figure(figsize=(12,4))\n",
    "plt.subplot(121)\n",
    "plt.plot(xs, train_loss, label='train loss')\n",
    "plt.plot(xs, dev_loss, label='dev loss')\n",
    "plt.legend()\n",
    "plt.xlabel('# epoch')\n",
    "plt.ylabel('loss')\n",
    "\n",
    "plt.subplot(122)\n",
    "plt.plot(xs, train_acc, label='train acc')\n",
    "plt.plot(xs, dev_acc, label='dev acc')\n",
    "plt.legend()\n",
    "plt.xlabel('# epoch')\n",
    "plt.ylabel('accuracy')\n",
    "\n",
    "plt.show()"
   ]
  },
  {
   "cell_type": "markdown",
   "metadata": {},
   "source": [
    "**comparision**: compare the plots obtained from the regularized version with the plots obtained from the non-regularized version, we can find that with regularizaiton term, the overfitting problem can be solved a lot. Training loss and dev loss curve are close enough with the help of regularized term."
   ]
  },
  {
   "cell_type": "markdown",
   "metadata": {},
   "source": [
    "### (c) measure the model performance on the test set"
   ]
  },
  {
   "cell_type": "code",
   "execution_count": 18,
   "metadata": {},
   "outputs": [
    {
     "name": "stderr",
     "output_type": "stream",
     "text": [
      "D:\\anaconda\\anacondaInstall\\envs\\py36\\lib\\site-packages\\ipykernel_launcher.py:7: RuntimeWarning: overflow encountered in exp\n",
      "  import sys\n"
     ]
    },
    {
     "name": "stdout",
     "output_type": "stream",
     "text": [
      "test accuracy without regularization: 0.9283\n",
      "test accuracy with regularization: 0.9554\n"
     ]
    }
   ],
   "source": [
    "# test accuracy without regularization\n",
    "with open('parameters_without_regularization.pkl','rb') as inf:\n",
    "    params = pickle.load(inf)\n",
    "accuracy = nn_test(testData, testLabels, params)\n",
    "print('test accuracy without regularization: {0}'.format(accuracy))\n",
    "\n",
    "\n",
    "#test accuracy with regularization\n",
    "with open('./parameters_with_regularization.pkl','rb') as inf:\n",
    "    params = pickle.load(inf)\n",
    "accuracy = nn_test(testData, testLabels, params)\n",
    "print('test accuracy with regularization: {0}'.format(accuracy))"
   ]
  },
  {
   "cell_type": "code",
   "execution_count": null,
   "metadata": {},
   "outputs": [],
   "source": []
  }
 ],
 "metadata": {
  "kernelspec": {
   "display_name": "Python 3",
   "language": "python",
   "name": "python3"
  },
  "language_info": {
   "codemirror_mode": {
    "name": "ipython",
    "version": 3
   },
   "file_extension": ".py",
   "mimetype": "text/x-python",
   "name": "python",
   "nbconvert_exporter": "python",
   "pygments_lexer": "ipython3",
   "version": "3.6.7"
  }
 },
 "nbformat": 4,
 "nbformat_minor": 2
}

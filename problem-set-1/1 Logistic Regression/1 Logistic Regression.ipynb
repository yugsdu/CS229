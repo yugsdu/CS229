{
 "cells": [
  {
   "cell_type": "markdown",
   "metadata": {},
   "source": [
    "#### (a) Find the Hessian $H$ of the emperical loss, and show $H \\succeq 0$"
   ]
  },
  {
   "cell_type": "markdown",
   "metadata": {},
   "source": [
    "From the problem set, we konw that:\n",
    "\n",
    "\\begin{align*}\n",
    "J(\\theta) &= \\frac{1}{m} \\sum_{i=1}^{m} \\mathrm{log}\\big(1 + e ^{-y^{(i)} \\theta^T x^{(i)}}\\big) \\\\\n",
    "               &= - \\frac{1}{m} \\sum_{i=1}^{m} \\mathrm{log}\\big(h_\\theta(y^{(i)}x^{(i)})\\big)\n",
    "\\end{align*}"
   ]
  },
  {
   "cell_type": "markdown",
   "metadata": {},
   "source": [
    "Thus, we can have the following:\n",
    "\n",
    "\\begin{align*}\n",
    "\\frac{\\partial J}{\\partial \\theta_j} \n",
    " &= -\\frac{1}{m} \\sum_{i=1}^{m} \\frac{1}{h_\\theta(y^{(i)}x^{(i)})} \\frac{\\partial h_\\theta(y^{(i)}x^{(i)})}{\\partial \\theta_j}   \\\\\n",
    " &= -\\frac{1}{m} \\sum_{i=1}^{m} \\frac{1}{h_\\theta(y^{(i)}x^{(i)})} h_\\theta(y^{(i)}x^{(i)}) (1 - h_\\theta(y^{(i)}x^{(i)})) \\frac{\\partial y^{(i)}x^{(i)}}{\\partial \\theta_j}  \\\\\n",
    " &= -\\frac{1}{m} \\sum_{i=1}^{m} \\big(1 - h_\\theta(y^{(i)}x^{(i)}) \\big) y^{(i)} x_j^{(i)}  \\\\\n",
    "\\end{align*}"
   ]
  },
  {
   "cell_type": "markdown",
   "metadata": {},
   "source": [
    "\\begin{align*}\n",
    "H_{jk} = \\frac{\\partial J}{\\partial \\theta_j \\partial \\theta_k} \n",
    "&= -\\frac{1}{m} \\sum_{i=1}^{m} \\frac{\\partial (1-h_\\theta(y^{(i)}x^{(i)}))}{\\partial \\theta_k} y^{(i)} x_j^{(i)} \\\\\n",
    "&= \\frac{1}{m} \\sum_{i=1}^{m} y^{(i)}x_j^{(i)}h_\\theta(y^{(i)}x^{(i)}) (1 - h_\\theta(y^{(i)}x^{(i)})) \\frac{\\partial y^{(i)}x^{(i)}}{\\partial \\theta_k} \\\\\n",
    "&= \\frac{1}{m} \\sum_{i=1}^{m} x_j^{(i)}x_k^{(i)}h_\\theta(y^{(i)}x^{(i)}) (1 - h_\\theta(y^{(i)}x^{(i)}))  \\\\\n",
    "\\end{align*}"
   ]
  },
  {
   "cell_type": "markdown",
   "metadata": {},
   "source": [
    "Thus, we can have:\n",
    "\n",
    "\\begin{align*}\n",
    "z^THz &= \\sum_{j=1}^{n} \\sum_{k=1}^{n} z_j H_{jk} z_k \\\\\n",
    "&= \\sum_{j=1}^{n} \\sum_{k=1}^{n} \\big[z_j \\frac{1}{m} \\sum_{i=1}^{m} x_j^{(i)}x_k^{(i)}h_\\theta(y^{(i)}x^{(i)}) (1 - h_\\theta(y^{(i)}x^{(i)})) \\big] z_j \\\\\n",
    "&= \\frac{1}{m} \\sum_{i=1}^{m} h_\\theta(y^{(i)}x^{(i)}) (1 - h_\\theta(y^{(i)}x^{(i)})) \\sum_{j=1}^{n} \\sum_{k=1}^{n} z_j x_j^{(i)} x_k^{(i)} z_k\n",
    "\\end{align*}"
   ]
  },
  {
   "cell_type": "markdown",
   "metadata": {},
   "source": [
    "We also know that $1 > h_\\theta(y^{(i)}x^{(i)}) > 0$ and $\\sum_{j=1}^{n} \\sum_{k=1}^{n} z_j x_j^{(i)} x_k^{(i)} z_j = ((x^{(i)})^T z)^2 \\ge 0$, \n",
    "\n",
    "so $z^T H z \\ge 0$, so $H$ is PSD, i.e. $H \\succeq 0$, $H$ is positive semidefinte."
   ]
  },
  {
   "cell_type": "markdown",
   "metadata": {},
   "source": [
    "#### (b) Implement Newton's Method for Optimizing $J(\\theta)$"
   ]
  },
  {
   "cell_type": "markdown",
   "metadata": {},
   "source": [
    "\\begin{align*}\n",
    "\\theta &:= \\theta - \\frac{\\partial J(\\theta) / \\partial \\theta} {H} \\\\\n",
    "       &:= \\theta - \\frac{\\nabla_{\\theta} J(\\theta)} {H} \\\\\n",
    "       &:= \\theta - H^{-1} \\nabla_{\\theta} J(\\theta)\n",
    "\\end{align*}"
   ]
  },
  {
   "cell_type": "markdown",
   "metadata": {},
   "source": [
    "\\begin{align*}\n",
    "\\frac{\\partial J}{\\partial \\theta_j} \n",
    " &= -\\frac{1}{m} \\sum_{i=1}^{m} \\big(1 - h_\\theta(y^{(i)}x^{(i)}) \\big) y^{(i)} x_j^{(i)}  \\\\\n",
    "\\end{align*}"
   ]
  },
  {
   "cell_type": "markdown",
   "metadata": {},
   "source": [
    "\\begin{align*}\n",
    "H_{jk} = \\frac{\\partial J}{\\partial \\theta_j \\partial \\theta_k} \n",
    "&= \\frac{1}{m} \\sum_{i=1}^{m} x_j^{(i)}x_k^{(i)}h_\\theta(y^{(i)}x^{(i)}) (1 - h_\\theta(y^{(i)}x^{(i)}))  \\\\\n",
    "\\end{align*}"
   ]
  },
  {
   "cell_type": "code",
   "execution_count": 1,
   "metadata": {},
   "outputs": [],
   "source": [
    "# newton's method\n",
    "# our following code refer \"zyxue/cs229\" at github!!"
   ]
  },
  {
   "cell_type": "code",
   "execution_count": 2,
   "metadata": {},
   "outputs": [],
   "source": [
    "import numpy as np\n",
    "import pandas as pd\n",
    "import matplotlib.pyplot as plt\n",
    "\n",
    "%matplotlib inline"
   ]
  },
  {
   "cell_type": "code",
   "execution_count": 3,
   "metadata": {},
   "outputs": [],
   "source": [
    "df_X = pd.read_csv('logistic_x.txt', sep='\\ +', header=None, engine='python')\n",
    "ys = pd.read_csv('logistic_y.txt', sep='\\ +', header=None, engine='python')\n",
    "ys = ys.astype(int)"
   ]
  },
  {
   "cell_type": "code",
   "execution_count": 4,
   "metadata": {},
   "outputs": [],
   "source": [
    "df_X['label'] = ys[0].values"
   ]
  },
  {
   "cell_type": "code",
   "execution_count": 5,
   "metadata": {},
   "outputs": [
    {
     "data": {
      "text/plain": [
       "<matplotlib.axes._subplots.AxesSubplot at 0x2c0a6f7c908>"
      ]
     },
     "execution_count": 5,
     "metadata": {},
     "output_type": "execute_result"
    },
    {
     "data": {
      "image/png": "[encoded data removed]",
      "text/plain": [
       "<Figure size 432x288 with 1 Axes>"
      ]
     },
     "metadata": {
      "needs_background": "light"
     },
     "output_type": "display_data"
    }
   ],
   "source": [
    "# we first look at the data\n",
    "ax = plt.axes() # show on the same figure window\n",
    "\n",
    "df_X.query('label == -1').plot.scatter(x=0, y=1, ax=ax, color='blue')\n",
    "df_X.query('label == 1').plot.scatter(x=0, y=1, ax=ax, color='red')"
   ]
  },
  {
   "cell_type": "code",
   "execution_count": 6,
   "metadata": {},
   "outputs": [],
   "source": [
    "Xs = df_X[[0, 1]].values\n",
    "# Xs.shape # figure out its shape"
   ]
  },
  {
   "cell_type": "code",
   "execution_count": 7,
   "metadata": {},
   "outputs": [],
   "source": [
    "# adding the intercept terms\n",
    "# get X and label y\n",
    "Xs = np.hstack([np.ones((Xs.shape[0], 1)), Xs])\n",
    "ys = df_X['label'].values"
   ]
  },
  {
   "cell_type": "code",
   "execution_count": 8,
   "metadata": {},
   "outputs": [
    {
     "data": {
      "text/plain": [
       "(99, 3)"
      ]
     },
     "execution_count": 8,
     "metadata": {},
     "output_type": "execute_result"
    }
   ],
   "source": [
    "Xs.shape"
   ]
  },
  {
   "cell_type": "code",
   "execution_count": 9,
   "metadata": {},
   "outputs": [
    {
     "name": "stdout",
     "output_type": "stream",
     "text": [
      "converged after 6 iterations\n"
     ]
    }
   ],
   "source": [
    "\n",
    "all_thetas = [] # store intermediate result \n",
    "theta = np.zeros(Xs.shape[1])\n",
    "tol = 1e9\n",
    "n_iters = 0\n",
    "while tol > 1e-6:\n",
    "    zs = ys * Xs.dot(theta) #99x1\n",
    "    gzs = 1 / (1 + np.exp(-zs))\n",
    "    nabla = np.mean((gzs - 1) * ys * Xs.T, axis=1)\n",
    "    \n",
    "    # an efficient way of calculating hessian\n",
    "    # as Hessian matrix using gradient first, so this segment is within while loop\n",
    "    hessian = np.zeros((Xs.shape[1], Xs.shape[1]))\n",
    "    for i in range(hessian.shape[0]):\n",
    "        for j in range(hessian.shape[0]):\n",
    "            if i <= j:\n",
    "                hessian[i][j] = np.mean(gzs * (1 - gzs) * Xs[:,i] * Xs[:,j])\n",
    "                if i != j:\n",
    "                    hessian[j][i] = hessian[i][j]\n",
    "            \n",
    "    delta = np.linalg.inv(hessian).dot(nabla)\n",
    "    old_theta = theta.copy()\n",
    "    theta -= delta\n",
    "    all_thetas.append(theta.copy())\n",
    "    n_iters += 1\n",
    "    tol = np.sum((theta - old_theta)**2)\n",
    "print('converged after {0} iterations'.format(n_iters))"
   ]
  },
  {
   "cell_type": "markdown",
   "metadata": {},
   "source": [
    "**Attention:** It seems that Newton's Method converges more quickly."
   ]
  },
  {
   "cell_type": "markdown",
   "metadata": {},
   "source": [
    "#### (c) plot the training data and decision boundary"
   ]
  },
  {
   "cell_type": "code",
   "execution_count": 10,
   "metadata": {},
   "outputs": [
    {
     "data": {
      "text/plain": [
       "<matplotlib.legend.Legend at 0x2c0a9126240>"
      ]
     },
     "execution_count": 10,
     "metadata": {},
     "output_type": "execute_result"
    },
    {
     "data": {
      "image/png": "[encoded data removed]",
      "text/plain": [
       "<Figure size 432x288 with 1 Axes>"
      ]
     },
     "metadata": {
      "needs_background": "light"
     },
     "output_type": "display_data"
    }
   ],
   "source": [
    "ax = plt.axes()\n",
    "\n",
    "df_X.query('label == -1').plot.scatter(x=0, y=1, ax=ax, color='blue')\n",
    "df_X.query('label == 1').plot.scatter(x=0, y=1, ax=ax, color='red')\n",
    "\n",
    "_xs = np.array([np.min(Xs[:,1]), np.max(Xs[:,1])])\n",
    "for k, theta in enumerate(all_thetas):\n",
    "    _ys = (theta[0] + theta[1] * _xs) / (- theta[2])\n",
    "    plt.plot(_xs, _ys, label='iter {0}'.format(k + 1), lw=0.5)\n",
    "plt.legend(bbox_to_anchor=(1.04,1), loc=\"upper left\")"
   ]
  }
 ],
 "metadata": {
  "kernelspec": {
   "display_name": "Python 3",
   "language": "python",
   "name": "python3"
  },
  "language_info": {
   "codemirror_mode": {
    "name": "ipython",
    "version": 3
   },
   "file_extension": ".py",
   "mimetype": "text/x-python",
   "name": "python",
   "nbconvert_exporter": "python",
   "pygments_lexer": "ipython3",
   "version": "3.6.7"
  }
 },
 "nbformat": 4,
 "nbformat_minor": 2
}

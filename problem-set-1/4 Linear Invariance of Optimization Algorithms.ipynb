{
 "cells": [
  {
   "cell_type": "markdown",
   "metadata": {},
   "source": [
    "##### !! The answer comes from “zyxue/stanford-cs229”"
   ]
  },
  {
   "cell_type": "markdown",
   "metadata": {},
   "source": [
    "#### (a) Show that Newton's method is invariant to linear reparameterizations"
   ]
  },
  {
   "cell_type": "markdown",
   "metadata": {},
   "source": [
    "Newton's method is:\n",
    "\n",
    "\\begin{align*}\n",
    "x^{(i + 1)} &= x^{(i)} - \\frac{f(x^{(i)})}{f'(x^{(i)})} \\\\\n",
    "\\end{align*}"
   ]
  },
  {
   "cell_type": "markdown",
   "metadata": {},
   "source": [
    "and we also have the fact that:\n",
    "\n",
    "\\begin{align*}\n",
    "g(z) &= f(Az) \\\\\n",
    "z^{(i)} &= A^{-1}x^{(i)} \\\\\n",
    "\\end{align*}    "
   ]
  },
  {
   "cell_type": "markdown",
   "metadata": {},
   "source": [
    "According to Newton's method and the given conditions, we could derivate:\n",
    "\n",
    "\\begin{align*}\n",
    "z^{(i + 1)} &= z^{(i)} - \\frac{g(z^{(i)})}{g'(x^{(i)})} \\\\\n",
    "                 &= z^{(i)} - \\frac{f(Az^{(i)})}{f'(Az^{(i)}) \\frac{\\partial Az^{(i)}}{\\partial z^{(i)}}} \\\\\n",
    "                 &= z^{(i)} - \\frac{f(Az^{(i)})}{A f'(Az^{(i)})} \\\\\n",
    "                 &= z^{(i)} - A^{-1}\\frac{f(Az^{(i)})}{f'(Az^{(i)})} \\\\\n",
    "                 &= A^{-1}x^{(i)} - A^{-1} \\frac{f(x^{(i)})}{f'(x^{(i)})} \\\\\n",
    "                 &= A^{-1}\\bigg(x^{(i)} - \\frac{f(x^{(i)})}{f'(x^{(i)})}\\bigg ) \\\\\n",
    "                 &= A^{-1} x^{(i+1)}\n",
    "\\end{align*}\n"
   ]
  },
  {
   "cell_type": "markdown",
   "metadata": {},
   "source": [
    "According to this derivation, we can see that Newton's method is invariant to linear reparameterizations."
   ]
  },
  {
   "cell_type": "markdown",
   "metadata": {},
   "source": [
    "#### (b) gradient descent is not invariant to linear reparameterizations."
   ]
  },
  {
   "cell_type": "markdown",
   "metadata": {},
   "source": [
    "Here comes our derivation:"
   ]
  },
  {
   "cell_type": "markdown",
   "metadata": {},
   "source": [
    "Gradient descent update rule is:\n",
    "\n",
    "\\begin{align*}\n",
    "x^{(i + 1)} &= x^{(i)} - \\alpha f'(x^{(i)}) \\\\\n",
    "\\end{align*}"
   ]
  },
  {
   "cell_type": "markdown",
   "metadata": {},
   "source": [
    "we also have the fact that:\n",
    "\n",
    "\\begin{align*}\n",
    "g(z) &= f(Az) \\\\\n",
    "z^{(i)} &= A^{-1}x^{(i)} \\\\\n",
    "\\end{align*}  "
   ]
  },
  {
   "cell_type": "markdown",
   "metadata": {},
   "source": [
    "According to gradient descent update rule and the given conditions, we could derivate:\n",
    "\n",
    "\\begin{align*}\n",
    "z^{(i + 1)} &= z^{(i)} - \\alpha g'(z^{(i)}) \\\\\n",
    "&= z^{(i)} - \\alpha f'(Az^{(i)}) \\frac {\\partial Az^{(i)}} {z^{(i)}} \\\\\n",
    "&= z^{(i)} - \\alpha A f'(Az^{(i)})  \\\\\n",
    "&=  A^{-1}x^{(i)} - \\alpha A f'(x^{(i)}) \\\\\n",
    "&\\not=  A^{-1}x^{(i)} - \\alpha A^{-1} f'(x^{(i)}) \\\\\n",
    "&\\not=  A^{-1}\\bigg( x^{(i)} - \\alpha f'(x^{(i)}) \\bigg) \\\\\n",
    "&\\not=  A^{-1}x^{(i+1)} \\\\\n",
    "\\end{align*}\n"
   ]
  },
  {
   "cell_type": "markdown",
   "metadata": {},
   "source": [
    "Thus, gradient descent is not invariant to linear reparameterizations"
   ]
  }
 ],
 "metadata": {
  "kernelspec": {
   "display_name": "Python 3",
   "language": "python",
   "name": "python3"
  },
  "language_info": {
   "codemirror_mode": {
    "name": "ipython",
    "version": 3
   },
   "file_extension": ".py",
   "mimetype": "text/x-python",
   "name": "python",
   "nbconvert_exporter": "python",
   "pygments_lexer": "ipython3",
   "version": "3.6.7"
  }
 },
 "nbformat": 4,
 "nbformat_minor": 2
}

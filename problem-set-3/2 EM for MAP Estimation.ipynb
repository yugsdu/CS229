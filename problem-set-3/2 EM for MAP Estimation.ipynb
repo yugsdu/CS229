{
 "cells": [
  {
   "cell_type": "markdown",
   "metadata": {},
   "source": [
    "suppose we are working in a Bayesian framework, and wanted to find the MAP estimate of the parameter $\\theta$ by maximizing:\n",
    "\n",
    "\\begin{align*} \n",
    "\\bigg (\\prod_{i=1}^{m}p(x^{(i)}|\\theta)\\bigg) p(\\theta)\n",
    "= \\bigg (\\prod_{i=1}^{m} \\sum_{z^{(i)}} p(x^{(i)}, z^{(i)} | \\theta) \\bigg) p(\\theta)\\;\\;\\;\\;\\;\\;\\;(1)\n",
    "\\end{align*}\n",
    "\n",
    "you should generalize the EM algorithm to work for MAP estimation, and prove that $\\prod_{i}^{m}p(x^{i}|\\theta)p(\\theta)$ monotonically increases with each iteration"
   ]
  },
  {
   "cell_type": "markdown",
   "metadata": {},
   "source": [
    "## (i) EM algorithm for MAP estimation "
   ]
  },
  {
   "cell_type": "markdown",
   "metadata": {},
   "source": [
    "the likelihood of equation(1) is \n",
    "\n",
    "\\begin{align*} \n",
    "l(\\theta)\n",
    "&= \\sum_{i=1}^{m}\\mathrm{log} p(x^{(i)}|\\theta)+\\mathrm{log} p(\\theta)\\\\\n",
    "&= \\sum_{i=1}^{m}\\mathrm{log} \\sum_{z^{(i)}} p(x^{(i)},z^{(i)}|\\theta)+\\mathrm{log} p(\\theta)\\\\\n",
    "&= \\sum_{i=1}^{m}\\mathrm{log} \\sum_{z^{(i)}} Q_{i}(z^{i})\\frac{p(x^{(i)},z^{(i)}|\\theta)}{Q_{i}(z^{(i)})}+\\mathrm{log} p(\\theta)\\\\\n",
    "&\\geq \\sum_{i=1}^{m} \\sum_{z^{(i)}} Q_{i}(z^{i}) \\mathrm{log}  \\frac{p(x^{(i)},z^{(i)}|\\theta)}{Q_{i}(z^{(i)})}+\\mathrm{log} p(\\theta)\\\\\n",
    "\\end{align*}\n",
    "\n",
    "the first inequality comes from the fact that $f(x)=\\log (x)$ is convex"
   ]
  },
  {
   "cell_type": "markdown",
   "metadata": {},
   "source": [
    "to make the bound tight for a particular value $\\theta$, we need for the step involving Jensen's inequality in our derivation above to hold with equality.\n",
    "\n",
    "$$\\frac {p(x^{(i)},z^{(i)}|\\theta)}{Q_{i}(z^{(i)})}=c$$"
   ]
  },
  {
   "cell_type": "markdown",
   "metadata": {},
   "source": [
    "since we know $\\sum_{z}Q_{i}(z^{(i)})=1$,\n",
    "we can further get that\n",
    "\\begin{align*}\n",
    "Q_{i}(z^{(i)})\n",
    "&=\\frac {p(x^{(i)},z^{(i)}|\\theta)} {\\sum_{z} p(x^{(i)},z^{(i)}|\\theta)}\\\\\n",
    "&=\\frac {p(x^{(i)},z^{(i)}|\\theta)} {p(x^{(i)}|\\theta)}\\\\\n",
    "&=p(z^{(i)}|x^{(i)},\\theta)\\\\\n",
    "\\end{align*}"
   ]
  },
  {
   "cell_type": "markdown",
   "metadata": {},
   "source": [
    "thus, we get the EM algorithm for MAP estimation as following:\n"
   ]
  },
  {
   "cell_type": "markdown",
   "metadata": {},
   "source": [
    "Repeat until convergence{$$\\\\$$\n",
    "(E-step) for each i, set $$Q_{i}(z^{(i)})=p(z^{(i)}|x^{(i)},\\theta)$$\n",
    "(M-step) set $$\\theta := \\arg\\max_{\\theta}\\sum_{i=1}^{m} \\sum_{z^{(i)}} Q_{i}(z^{i}) \\mathrm{log}  \\frac{p(x^{(i)},z^{(i)}|\\theta)}{Q_{i}(z^{(i)})}+\\mathrm{log} p(\\theta)$$\n",
    "}"
   ]
  },
  {
   "cell_type": "markdown",
   "metadata": {},
   "source": [
    "note that in the E-step, we give the lower bound of the likelihood fuction, and in the M-step, we maximize the lower bounc"
   ]
  },
  {
   "cell_type": "markdown",
   "metadata": {},
   "source": [
    "## (ii) monotonically increase"
   ]
  },
  {
   "cell_type": "markdown",
   "metadata": {},
   "source": [
    "\\begin{align*} \n",
    "l(\\theta^{(t+1)})\n",
    "&\\geq \\sum_{i=1}^{m} \\sum_{z^{(i)}} Q_{i}^{(t)}(z^{i}) \\mathrm{log}  \\frac{p(x^{(i)},z^{(i)}|\\theta^{(t+1)})}{Q_{i}^{(t)}(z^{(i)})}+\\mathrm{log} p(\\theta^{(t+1)})\\\\\n",
    "&\\geq \\sum_{i=1}^{m} \\sum_{z^{(i)}} Q_{i}^{(t)}(z^{i}) \\mathrm{log}  \\frac{p(x^{(i)},z^{(i)}|\\theta^{(t)})}{Q_{i}^{(t)}(z^{(i)})}+\\mathrm{log} p(\\theta^{(t)})\\\\\n",
    "&=l(\\theta^{(t)})\n",
    "\\end{align*}"
   ]
  },
  {
   "cell_type": "markdown",
   "metadata": {},
   "source": [
    "this is similar with EM algorithm for maximum likelihood estimation"
   ]
  },
  {
   "cell_type": "code",
   "execution_count": null,
   "metadata": {},
   "outputs": [],
   "source": []
  }
 ],
 "metadata": {
  "kernelspec": {
   "display_name": "Python 3",
   "language": "python",
   "name": "python3"
  },
  "language_info": {
   "codemirror_mode": {
    "name": "ipython",
    "version": 3
   },
   "file_extension": ".py",
   "mimetype": "text/x-python",
   "name": "python",
   "nbconvert_exporter": "python",
   "pygments_lexer": "ipython3",
   "version": "3.6.7"
  }
 },
 "nbformat": 4,
 "nbformat_minor": 2
}

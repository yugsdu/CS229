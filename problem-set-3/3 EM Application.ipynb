{
 "cells": [
  {
   "cell_type": "markdown",
   "metadata": {},
   "source": [
    "### the following formulas are mainly based on https://github.com/zyxue/stanford-cs229/tree/master/Problem-set-3. It is a very hard problem, but the author did excellently"
   ]
  },
  {
   "cell_type": "markdown",
   "metadata": {},
   "source": [
    "paper's true value:\n",
    "\n",
    "$$y^{(pr)} \\sim \\mathcal{N}(\\mu_p, \\sigma_p^2)$$"
   ]
  },
  {
   "cell_type": "markdown",
   "metadata": {},
   "source": [
    "reviewer's bias:\n",
    "\n",
    "$$z^{(pr)} \\sim \\mathcal{N}(\\nu_r, \\tau_r^2)$$"
   ]
  },
  {
   "cell_type": "markdown",
   "metadata": {},
   "source": [
    "reviewer's score for a given paper:\n",
    "\n",
    "$$x^{(pr)} | y^{(pr)}, z^{(pr)} \\sim \\mathcal{N}(y^{(pr)} + z^{(pr)}, \\sigma^2 )$$"
   ]
  },
  {
   "cell_type": "markdown",
   "metadata": {},
   "source": [
    "note that: the variables $y^{(pr)}$ and $z^{(pr)}$ are independent"
   ]
  },
  {
   "cell_type": "markdown",
   "metadata": {},
   "source": [
    "## (a) i "
   ]
  },
  {
   "cell_type": "markdown",
   "metadata": {},
   "source": [
    "since the fact that:\n",
    "$$x^{(pr)} = y^{(pr)} + z^{(pr)} + \\epsilon^{(pr)} \\text{,  where  } \\epsilon \\sim \\mathcal{N}(0, \\sigma^2)$$"
   ]
  },
  {
   "cell_type": "markdown",
   "metadata": {},
   "source": [
    "so $x^{(pr)}$ follows\n",
    "$$x^{(pr)} \\sim \\mathcal{N}(\\mu_p + \\nu_r, \\sigma_p^2 + \\tau_r^2 + \\sigma^2 )$$"
   ]
  },
  {
   "cell_type": "markdown",
   "metadata": {},
   "source": [
    "For the joint distribution $p(y^{(pr)}, z^{(pr)}, x^{(pr)})$, its mean vector ($\\mu_{pr}(m_{pr})$, use $m$ because $\\mu$ has already been used) and covariance matrix ($\\Sigma_{pr}$) are\n",
    "\n",
    "\\begin{align*}\n",
    "m_{pr} &= [\\mu_p, \\nu_r, \\mu_p + \\nu_r]^T\n",
    "\\\\\n",
    "\\Sigma_{pr} &= \n",
    "\\begin{bmatrix}\n",
    "\\sigma_p^2 & 0        & \\sigma_p^2 \\\\ \n",
    "0          & \\tau_r^2 & \\tau_r^2  \\\\ \n",
    "\\sigma_p^2 & \\tau_r^2 & \\sigma_p^2 + \\tau_r^2 + \\sigma^2\n",
    "\\end{bmatrix}\n",
    "\\end{align*}"
   ]
  },
  {
   "cell_type": "markdown",
   "metadata": {},
   "source": [
    "Therefore, following a trivariate normal distribution,\n",
    "\n",
    "\\begin{align*}\n",
    "p(x^{(pr)}, y^{(pr)}, z^{(pr)}; \\mu_p, \\nu_r, \\sigma_p^2, \\tau_r^2)\n",
    "&= \\frac{1}{(2\\pi)^{2/3} \\left|\\Sigma_{pr}\\right|^{1/2}} \\exp \\bigg(\\frac{1}{2}(a^{(pr)} - m_{pr})^T \\Sigma_{pr}^{-1} (a^{(pr)} - m_{pr}) \\bigg)\n",
    "\\end{align*}"
   ]
  },
  {
   "cell_type": "markdown",
   "metadata": {},
   "source": [
    "where $a^{(pr)} = [y^{(pr)}, z^{(pr)}, x^{(pr)}]^T$."
   ]
  },
  {
   "cell_type": "markdown",
   "metadata": {},
   "source": [
    "## (a) ii "
   ]
  },
  {
   "cell_type": "markdown",
   "metadata": {},
   "source": [
    "In the factor analysis section, we get that:\n",
    "\\begin{align*}\n",
    "x_1 &\\sim \\mathcal{N}(\\mu_1, \\Sigma_{11}) \\\\\n",
    "x_2 &\\sim \\mathcal{N}(\\mu_2, \\Sigma_{22})\n",
    "\\end{align*}"
   ]
  },
  {
   "cell_type": "markdown",
   "metadata": {},
   "source": [
    "stack $x_{1}$and $x_{2}$together, we get the following\n",
    "\\begin{align*}\n",
    "x &= [x_1, x_2]^T \\sim \\mathcal{N}([\\mu_1, \\mu_2]^T, \\Sigma)\n",
    "\\\\\n",
    "\\Sigma &= \n",
    "\\begin{bmatrix}\n",
    " \\Sigma_{11} & \\Sigma_{12} \\\\ \n",
    " \\Sigma_{21} & \\Sigma_{22} \n",
    "\\end{bmatrix}\n",
    "\\end{align*}"
   ]
  },
  {
   "cell_type": "markdown",
   "metadata": {},
   "source": [
    "Then for conditional random variable, $x_1|x_2 \\sim \\mathcal{N}(\\mu_{1|2}, \\Sigma_{1|2})$,\n",
    "\n",
    "\\begin{align*}\n",
    "\\mu_{1|2}    &= \\mu_1 + \\Sigma_{12}\\Sigma_{22}^{-1}(x_2 - \\mu_2) \\\\\n",
    "\\Sigma_{1|2} &= \\Sigma_{11} + \\Sigma_{12}\\Sigma_{22}^{-1}\\Sigma_{21}\n",
    "\\end{align*}"
   ]
  },
  {
   "cell_type": "markdown",
   "metadata": {},
   "source": [
    "our goal is $Q_{pr}(y^{(pr)}, z^{(pr)}) = p(y^{(pr)}, z^{(pr)} | x^{(pr)})$"
   ]
  },
  {
   "cell_type": "markdown",
   "metadata": {},
   "source": [
    "since the fact that:\n",
    "\\begin{align*}\n",
    "\\mu_1 &= [\\mu_p, \\nu_r]^T\n",
    "\\\\\n",
    "\\Sigma_{12} &= [\\sigma_p^2, \\tau^2]^T \\\\\n",
    "\\Sigma_{22}^{-1} &= \\frac{1}{\\sigma_p^2 + \\tau_r^2 + \\sigma^2} \\\\\n",
    "x_2 &= x^{(pr)} \\\\\n",
    "\\mu_2 &= \\mu_p + \\nu_r \\\\\n",
    "\\Sigma_{11} &= \\begin{bmatrix}\n",
    "\\sigma_p^2 & 0        \\\\ \n",
    "0          & \\tau_r^2 \\\\ \n",
    "\\end{bmatrix} \\\\\n",
    "\\Sigma_{21} &= [\\sigma_p^2, \\tau^2]\n",
    "\\end{align*}"
   ]
  },
  {
   "cell_type": "markdown",
   "metadata": {},
   "source": [
    "so we can get the followings:\n",
    "\\begin{align*}\n",
    "\\mu_{1|2} &=\n",
    "\\begin{bmatrix}\n",
    "\\mu_p \\\\\n",
    "\\nu_r \\\\\n",
    "\\end{bmatrix} + \\frac{x^{(pr)} - \\mu_p - \\nu_r}{\\sigma_p^2 + \\tau_r^2 + \\sigma^2} \n",
    "\\begin{bmatrix}\n",
    "\\sigma_p^2 \\\\\n",
    "\\tau^2 \\\\\n",
    "\\end{bmatrix}\n",
    "\\end{align*}"
   ]
  },
  {
   "cell_type": "markdown",
   "metadata": {},
   "source": [
    "\\begin{align*}\n",
    "\\Sigma_{1|2} &= \\begin{bmatrix}\n",
    "\\sigma_p^2 & 0        \\\\ \n",
    "0          & \\tau_r^2 \\\\ \n",
    "\\end{bmatrix} - \\begin{bmatrix}\n",
    "\\sigma_p^2 \\\\\n",
    "\\tau^2 \\\\\n",
    "\\end{bmatrix} \\frac{1}{\\sigma_p^2 + \\tau_r^2 + \\sigma^2} [\\sigma_p^2, \\tau^2] \n",
    "\\\\\n",
    "&= \\begin{bmatrix}\n",
    "\\sigma_p^2 & 0        \\\\ \n",
    "0          & \\tau_r^2 \\\\ \n",
    "\\end{bmatrix} - \\frac{1}{\\sigma_p^2 + \\tau_r^2 + \\sigma^2} \\begin{bmatrix}\n",
    "\\sigma_p^4        & \\sigma_p^2 \\tau^2 \\\\\n",
    "\\tau^2 \\sigma_p^2 & \\tau^4            \\\\\n",
    "\\end{bmatrix} \n",
    "\\end{align*}"
   ]
  },
  {
   "cell_type": "markdown",
   "metadata": {},
   "source": [
    "in the end, we can get the following:\n",
    "\\begin{align*}\n",
    "Q_{pr}(y^{(pr)}, z^{(pr)})\n",
    "&= p(y^{(pr)}, z^{(pr)} | x^{(pr)}) \\\\\n",
    "&= \\frac{1}{\\sqrt{2\\pi}\\left|\\Sigma_{1|2}\\right|} \\exp{\\bigg(-\\frac{1}{2} \\bigg(\n",
    "\\begin{bmatrix}\n",
    "y^{(pr)} \\\\\n",
    "z^{(pr)} \\\\\n",
    "\\end{bmatrix}\n",
    " - \\mu_{1|2}\\bigg)^T\\Sigma_{1|2}^{-1} \\bigg(\n",
    "\\begin{bmatrix}\n",
    "y^{(pr)} \\\\\n",
    "z^{(pr)} \\\\\n",
    "\\end{bmatrix}\n",
    " - \\mu_{1|2} \\bigg) \n",
    "\\bigg)} \\\\\n",
    "\\end{align*}"
   ]
  },
  {
   "cell_type": "markdown",
   "metadata": {},
   "source": [
    "## (b) "
   ]
  },
  {
   "cell_type": "markdown",
   "metadata": {},
   "source": [
    "\\begin{align*}\n",
    "w_{(y^{(pr)}, z^{(pr)})}= Q_{pr}(y^{(pr)}, z^{(pr)})\n",
    "\\end{align*}"
   ]
  },
  {
   "cell_type": "markdown",
   "metadata": {},
   "source": [
    "the lower bound for the log likelihood:\n",
    "\\begin{align*}\n",
    "l(\\mu_p, \\nu_r, \\sigma_p^2, \\tau_r^2)  \n",
    "&= \n",
    "\\sum_{p=1}^{P} \\sum_{r=1}^{R} \\sum_{(y,z)}Q_{pr}(y^{(pr)}, z^{(pr)})\\log \\frac{p(y^{(pr)}, z^{(pr)}, x^{(pr)})}{Q_{pr}(y^{(pr)}, z^{(pr)})}\n",
    "\\\\ \n",
    "&=\n",
    "\\sum_{p=1}^{P} \\sum_{r=1}^{R} \\sum_{(y,z)} w_{(y^{(pr)}, z^{(pr)})} \\log \\frac{p(y^{(pr)}, z^{(pr)}, x^{(pr)})}{w_{(y^{(pr)}, z^{(pr)})}}\n",
    "\\\\\n",
    "&=\n",
    "\\sum_{p=1}^{P} \\sum_{r=1}^{R} \\sum_{(y,z)} w_{(y^{(pr)}, z^{(pr)})} \\log \\frac{\\frac{1}{(2\\pi)^{2/3} \\left|\\Sigma_{pr}\\right|^{1/2}} \\exp \\bigg(-\\frac{1}{2}(a^{(pr)} - m_{pr})^T \\Sigma_{pr}^{-1} (a^{(pr)} - m_{pr}) \\bigg)}{w_{(y^{(pr)}, z^{(pr)})}} \\\\\n",
    "&= \\sum_{p=1}^{P} \\sum_{r=1}^{R} \\sum_{(y,z)} w_{(y^{(pr)}, z^{(pr)})}\\bigg (\\log \\frac{1}{(2\\pi)^{2/3} \\left|\\Sigma_{pr}\\right|^{1/2}} - \\frac{1}{2}(a^{(pr)} - m_{pr})^T \\Sigma_{pr}^{-1} (a^{(pr)} - m_{pr}) - \\log w_{(y^{(pr)}, z^{(pr)})} \\bigg ) \\\\\n",
    "\\end{align*}"
   ]
  },
  {
   "cell_type": "markdown",
   "metadata": {},
   "source": [
    "to update that formula, we need compute parameters' gradients first:"
   ]
  },
  {
   "cell_type": "markdown",
   "metadata": {},
   "source": [
    "for parameter $\\mu_i$\n",
    "\n",
    "\\begin{align*}\n",
    "\\frac{\\partial l}{\\partial {\\mu_i}} \n",
    "&= \\frac{\\partial}{\\partial \\mu_i} \\sum_{p=1}^{P} \\sum_{r=1}^{R} \\sum_{(y,z)} w_{(y^{(pr)}, z^{(pr)})}\\bigg (\\log \\frac{1}{(2\\pi)^{2/3} \\left|\\Sigma_{pr}\\right|^{1/2}} - \\frac{1}{2}(a^{(pr)} - m_{pr})^T \\Sigma_{pr}^{-1} (a^{(pr)} - m_{pr}) - \\log w_{(y^{(pr)}, z^{(pr)})} \\bigg ) \\\\\n",
    "&= \\sum_{r=1}^{R} \\sum_{(y,z)} w_{(y^{(ir)}, z^{(ir)})} (\\frac{\\partial m_{ir}}{\\partial \\mu_i})^T \\Sigma_{ir}^{-1}(a^{(ir)} - m_{ir})\n",
    "\\\\\n",
    "&= \\sum_{r=1}^{R} \\sum_{(y,z)} w_{(y^{(ir)}, z^{(ir)})} [1, 0, 1]\\Sigma_{ir}^{-1}(a^{(ir)} - m_{ir})\n",
    "\\\\\n",
    "&= \\sum_{r=1}^{R} \\sum_{(y,z)} w_{(y^{(ir)}, z^{(ir)})} [\\frac{1}{\\sigma_i^2}, 0, -\\frac{2}{\\sigma^2}](a^{(ir)} - m_{ir})\n",
    "\\\\\n",
    "&= \\sum_{r=1}^{R} \\sum_{(y,z)} w_{(y^{(ir)}, z^{(ir)})} [\\frac{1}{\\sigma_i^2}, 0, -\\frac{2}{\\sigma^2}]a^{(ir)} - \\sum_{r=1}^{R} \\sum_{(y,z)} w_{(y^{(ir)}, z^{(ir)})} [\\frac{1}{\\sigma_i^2}, 0, -\\frac{2}{\\sigma^2}]m_{ir}\n",
    "\\\\\n",
    "&= \\sum_{r=1}^{R} \\sum_{(y,z)} w_{(y^{(ir)}, z^{(ir)})} [\\frac{1}{\\sigma_i^2}, 0, -\\frac{2}{\\sigma^2}] \n",
    "\\begin{bmatrix}\n",
    "y^{(ir)} \\\\\n",
    "z^{(ir)} \\\\\n",
    "x^{(ir)}\n",
    "\\end{bmatrix}\n",
    "- \\sum_{r=1}^{R} \\sum_{(y,z)} w_{(y^{(ir)}, z^{(ir)})} [\\frac{1}{\\sigma_i^2}, 0, -\\frac{2}{\\sigma^2}]\n",
    "\\begin{bmatrix}\n",
    "\\mu_i \\\\\n",
    "\\nu_r \\\\\n",
    "\\mu_i + \\nu_r\n",
    "\\end{bmatrix}\n",
    "\\end{align*}"
   ]
  },
  {
   "cell_type": "markdown",
   "metadata": {},
   "source": [
    "setting to zero, we can get:\n",
    "\\begin{align*}\n",
    "\\sum_{r=1}^{R} \\sum_{(y,z)} w_{(y^{(ir)}, z^{(ir)})} [\\frac{1}{\\sigma_i^2}, 0, -\\frac{2}{\\sigma^2}] \n",
    "\\begin{bmatrix}\n",
    "y^{(ir)} \\\\\n",
    "z^{(ir)} \\\\\n",
    "x^{(ir)}\n",
    "\\end{bmatrix}\n",
    "&= \\sum_{r=1}^{R} \\sum_{(y,z)} w_{(y^{(ir)}, z^{(ir)})} [\\frac{1}{\\sigma_i^2}, 0, -\\frac{2}{\\sigma^2}]\n",
    "\\begin{bmatrix}\n",
    "\\mu_i \\\\\n",
    "\\nu_r \\\\\n",
    "\\mu_i + \\nu_r\n",
    "\\end{bmatrix}\n",
    "\\\\\n",
    "\\sum_{r=1}^{R} \\sum_{(y,z)} w_{(y^{(ir)}, z^{(ir)})} \\bigg(\\frac{y^{(ir)}}{\\sigma_i^2} - \\frac{2 x^{(ir)}}{\\sigma^2}\\bigg )\n",
    "&= \\sum_{r=1}^{R} \\sum_{(y,z)} w_{(y^{(ir)}, z^{(ir)})} \\bigg( \\frac{\\mu_i}{\\sigma_i^2} - \\frac{2(\\mu_i + \\nu_r)}{\\sigma^2} \\bigg)\n",
    "\\\\\n",
    "\\sum_{r=1}^{R} \\sum_{(y,z)} w_{(y^{(ir)}, z^{(ir)})} \\bigg(\\frac{y^{(ir)}}{\\sigma_i^2} - \\frac{2 (x^{(ir)} - \\nu_r)}{\\sigma^2}\\bigg)\n",
    "&= \\sum_{r=1}^{R} \\sum_{(y,z)} w_{(y^{(ir)}, z^{(ir)})} (\\frac{1}{\\sigma_i^2} - \\frac{2}{\\sigma^2})\\mu_i\n",
    "\\\\\n",
    "\\mu_i &= \\frac{\\sum_{r=1}^{R} \\sum_{(y,z)} w_{(y^{(ir)}, z^{(ir)})} \\bigg(\\frac{y^{(ir)}}{\\sigma_i^2} - \\frac{2 (x^{(ir)} - \\nu_r)}{\\sigma^2}\\bigg)}{\\sum_{r=1}^{R} \\sum_{(y,z)} w_{(y^{(ir)}, z^{(ir)})} (\\frac{1}{\\sigma_i^2} - \\frac{2}{\\sigma^2})}\n",
    "\\end{align*}"
   ]
  },
  {
   "cell_type": "markdown",
   "metadata": {},
   "source": [
    "for parameter $\\sigma_i^2$\n",
    "\n",
    "\\begin{align*}\n",
    "\\frac{\\partial l}{\\partial {\\sigma_i^2}} \n",
    "&= \\frac{\\partial}{\\partial \\sigma_i^2} \\sum_{p=1}^{P} \\sum_{r=1}^{R} \\sum_{(y,z)} w_{(y^{(pr)}, z^{(pr)})}\\bigg (\\log \\frac{1}{(2\\pi)^{2/3} \\left|\\Sigma_{pr}\\right|^{1/2}} - \\frac{1}{2}(a^{(pr)} - m_{pr})^T \\Sigma_{pr}^{-1} (a^{(pr)} - m_{pr}) - \\log w_{(y^{(pr)}, z^{(pr)})} \\bigg ) \\\\\n",
    "&= \\frac{\\partial}{\\partial \\sigma_i^2} \\sum_{r=1}^{R} \\sum_{(y,z)} w_{(y^{(ir)}, z^{(ir)})} \\bigg( -\\frac{1}{2} \\log\\left|\\Sigma_{ir}\\right| - \\frac{1}{2}(a^{(ir)} - m_{ir})^T \\Sigma_{ir}^{-1} (a^{(ir)} - m_{ir}) \\bigg) \n",
    "\\\\\n",
    "&= - \\frac{1}{2} \\sum_{r=1}^{R} \\sum_{(y,z)} w_{(y^{(ir)}, z^{(ir)})} \\bigg( \\frac{1}{\\left|\\Sigma_{ir}\\right|}\\frac{\\partial \\left|\\Sigma_{ir}\\right|}{\\partial \\sigma_i^2}  + (a^{(ir)} - m_{ir})^T \\frac{\\partial \\Sigma_{ir}^{-1}}{\\partial \\sigma_i^2} (a^{(ir)} - m_{ir}) \\bigg) \n",
    "\\\\\n",
    "&= - \\frac{1}{2} \\sum_{r=1}^{R} \\sum_{(y,z)} w_{(y^{(ir)}, z^{(ir)})} \\bigg( \\frac{1}{\\sigma_i^2}  + \\begin{bmatrix}\n",
    "y^{(ir)} - \\mu_i \\\\\n",
    "z^{(ir)} - \\nu_r \\\\\n",
    "x^{(ir)} - \\mu_i - \\nu_r \\\\\n",
    "\\end{bmatrix}^T\n",
    "\\begin{bmatrix}\n",
    "-\\frac{1}{\\sigma_i^4} & 0 & 0 \\\\\n",
    "0                     & 0 & 0 \\\\\n",
    "0                     & 0 & 0 \\\\\n",
    "\\end{bmatrix}\n",
    "\\begin{bmatrix}\n",
    "y^{(ir)} - \\mu_i \\\\\n",
    "z^{(ir)} - \\nu_r \\\\\n",
    "x^{(ir)} - \\mu_i - \\nu_r \\\\\n",
    "\\end{bmatrix} \\bigg)\n",
    "\\\\\n",
    "&= - \\frac{1}{2} \\sum_{r=1}^{R} \\sum_{(y,z)} w_{(y^{(ir)}, z^{(ir)})} \n",
    "\\bigg( \\frac{1}{\\sigma_i^2} - \\frac{1}{\\sigma_i^4}(y^{(ir)} - \\mu_i)^2 \\bigg)\n",
    "\\end{align*}"
   ]
  },
  {
   "cell_type": "markdown",
   "metadata": {},
   "source": [
    "setting to zero, we can get:\n",
    "\\begin{align*}\n",
    "\\sigma_i^2 = \\frac{\\sum_{r=1}^{R} \\sum_{(y,z)} w_{(y^{(ir)}, z^{(ir)})} (y^{(ir)} - \\mu_i)^2}{\\sum_{r=1}^{R} \\sum_{(y,z)} w_{(y^{(ir)}, z^{(ir)})}}\n",
    "\\end{align*}"
   ]
  },
  {
   "cell_type": "markdown",
   "metadata": {},
   "source": [
    "for parameter $\\nu_j$\n",
    "\n",
    "\\begin{align*}\n",
    "\\frac{\\partial l}{\\partial {\\nu_j}} \n",
    "&= \\frac{\\partial}{\\partial \\nu_j} \\sum_{p=1}^{P} \\sum_{r=1}^{R} \\sum_{(y,z)} w_{(y^{(pr)}, z^{(pr)})}\\bigg (\\log \\frac{1}{(2\\pi)^{2/3} \\left|\\Sigma_{pr}\\right|^{1/2}} - \\frac{1}{2}(a^{(pr)} - m_{pr})^T \\Sigma_{pr}^{-1} (a^{(pr)} - m_{pr}) - \\log w_{(y^{(pr)}, z^{(pr)})} \\bigg ) \\\\\n",
    "&= \\sum_{p=1}^{P} \\sum_{(y,z)} w_{(y^{(pj)}, z^{(pj)})} (\\frac{\\partial m_{pj}}{\\partial \\nu_j})^T \\Sigma_{pj}^{-1}(a^{(pj)} - m_{pj})\n",
    "\\\\\n",
    "&= \\sum_{p=1}^{P} \\sum_{(y,z)} w_{(y^{(pj)}, z^{(pj)})} [0, 1, 1]\\Sigma_{pj}^{-1}(a^{(pj)} - m_{pj})\n",
    "\\\\\n",
    "&= \\sum_{p=1}^{P} \\sum_{(y,z)} w_{(y^{(pj)}, z^{(pj)})} [0, \\frac{1}{\\tau_j^2}, -\\frac{2}{\\sigma^2}](a^{(pj)} - m_{pj})\n",
    "\\\\\n",
    "&= \\sum_{p=1}^{P} \\sum_{(y,z)} w_{(y^{(pj)}, z^{(pj)})} [0, \\frac{1}{\\tau_j^2}, -\\frac{2}{\\sigma^2}]a^{(pj)} - \\sum_{p=1}^{P} \\sum_{(y,z)} w_{(y^{(pj)}, z^{(pj)})} [0, \\frac{1}{\\tau_j^2}, -\\frac{2}{\\sigma^2}] m_{pj}\n",
    "\\\\\n",
    "&= \\sum_{p=1}^{P} \\sum_{(y,z)} w_{(y^{(pj)}, z^{(pj)})} [0, \\frac{1}{\\tau_j^2}, -\\frac{2}{\\sigma^2}]\n",
    "\\begin{bmatrix}\n",
    "y^{(pj)} \\\\\n",
    "z^{(pj)} \\\\\n",
    "x^{(pj)} \\\\\n",
    "\\end{bmatrix} - \\sum_{p=1}^{P} \\sum_{(y,z)} w_{(y^{(pj)}, z^{(pj)})} [0, \\frac{1}{\\tau_j^2}, -\\frac{2}{\\sigma^2}] \n",
    "\\begin{bmatrix}\n",
    "\\mu_p \\\\\n",
    "\\nu_j \\\\\n",
    "\\mu_p + \\nu_j \\\\\n",
    "\\end{bmatrix}\n",
    "\\end{align*}\n"
   ]
  },
  {
   "cell_type": "markdown",
   "metadata": {},
   "source": [
    "setting to zero, we can get:\n",
    "\\begin{align*}\n",
    "\\sum_{p=1}^{P} \\sum_{(y,z)} w_{(y^{(pj)}, z^{(pj)})} [0, \\frac{1}{\\tau_j^2}, -\\frac{2}{\\sigma^2}]\n",
    "\\begin{bmatrix}\n",
    "y^{(pj)} \\\\\n",
    "z^{(pj)} \\\\\n",
    "x^{(pj)} \\\\\n",
    "\\end{bmatrix} &=\n",
    "\\sum_{p=1}^{P} \\sum_{(y,z)} w_{(y^{(pj)}, z^{(pj)})} [0, \\frac{1}{\\tau_j^2}, -\\frac{2}{\\sigma^2}] \n",
    "\\begin{bmatrix}\n",
    "\\mu_p \\\\\n",
    "\\nu_j \\\\\n",
    "\\mu_p + \\nu_j \\\\\n",
    "\\end{bmatrix} \n",
    "\\\\\n",
    "\\sum_{p=1}^{P} \\sum_{(y,z)} w_{(y^{(pj)}, z^{(pj)})}\\bigg(\\frac{z^{(pj)}}{\\tau_j^2} - \\frac{2x^{(pj)}}{\\sigma^2} \\bigg) &= \n",
    "\\sum_{p=1}^{P} \\sum_{(y,z)} w_{(y^{(pj)}, z^{(pj)})}\\bigg(\\frac{\\nu_j}{\\tau_j^2} - \\frac{2(\\mu_p + \\nu_j)}{\\sigma^2} \\bigg)\n",
    "\\\\\n",
    "\\sum_{p=1}^{P} \\sum_{(y,z)} w_{(y^{(pj)}, z^{(pj)})}\\bigg(\\frac{z^{(pj)}}{\\tau_j^2} - \\frac{2(x^{(pj)} - \\mu_p)}{\\sigma^2} \\bigg) &= \n",
    "\\sum_{p=1}^{P} \\sum_{(y,z)} w_{(y^{(pj)}, z^{(pj)})}(\\frac{1}{\\tau_j^2} - \\frac{2}{\\sigma^2})\\nu_j\n",
    "\\\\\n",
    "\\nu_j &= \\frac{\\sum_{p=1}^{P} \\sum_{(y,z)} w_{(y^{(pj)}, z^{(pj)})}\\bigg(\\frac{z^{(pj)}}{\\tau_j^2} - \\frac{2(x^{(pj)} - \\mu_p)}{\\sigma^2} \\bigg)}{\\sum_{p=1}^{P} \\sum_{(y,z)} w_{(y^{(pj)}, z^{(pj)})}(\\frac{1}{\\tau_j^2} - \\frac{2}{\\sigma^2})}\n",
    "\\end{align*}\n",
    "\n"
   ]
  },
  {
   "cell_type": "markdown",
   "metadata": {},
   "source": [
    "\n",
    "\n",
    "for parameter:$\\tau_j^2$\n",
    "\\begin{align*}\n",
    "\\sum_{p=1}^{P} \\sum_{(y,z)} w_{(y^{(pj)}, z^{(pj)})} [0, \\frac{1}{\\tau_j^2}, -\\frac{2}{\\sigma^2}]\n",
    "\\begin{bmatrix}\n",
    "y^{(pj)} \\\\\n",
    "z^{(pj)} \\\\\n",
    "x^{(pj)} \\\\\n",
    "\\end{bmatrix} &=\n",
    "\\sum_{p=1}^{P} \\sum_{(y,z)} w_{(y^{(pj)}, z^{(pj)})} [0, \\frac{1}{\\tau_j^2}, -\\frac{2}{\\sigma^2}] \n",
    "\\begin{bmatrix}\n",
    "\\mu_p \\\\\n",
    "\\nu_j \\\\\n",
    "\\mu_p + \\nu_j \\\\\n",
    "\\end{bmatrix} \n",
    "\\\\\n",
    "\\sum_{p=1}^{P} \\sum_{(y,z)} w_{(y^{(pj)}, z^{(pj)})}\\bigg(\\frac{z^{(pj)}}{\\tau_j^2} - \\frac{2x^{(pj)}}{\\sigma^2} \\bigg) &= \n",
    "\\sum_{p=1}^{P} \\sum_{(y,z)} w_{(y^{(pj)}, z^{(pj)})}\\bigg(\\frac{\\nu_j}{\\tau_j^2} - \\frac{2(\\mu_p + \\nu_j)}{\\sigma^2} \\bigg)\n",
    "\\\\\n",
    "\\sum_{p=1}^{P} \\sum_{(y,z)} w_{(y^{(pj)}, z^{(pj)})}\\bigg(\\frac{z^{(pj)}}{\\tau_j^2} - \\frac{2(x^{(pj)} - \\mu_p)}{\\sigma^2} \\bigg) &= \n",
    "\\sum_{p=1}^{P} \\sum_{(y,z)} w_{(y^{(pj)}, z^{(pj)})}(\\frac{1}{\\tau_j^2} - \\frac{2}{\\sigma^2})\\nu_j\n",
    "\\\\\n",
    "\\nu_j &= \\frac{\\sum_{p=1}^{P} \\sum_{(y,z)} w_{(y^{(pj)}, z^{(pj)})}\\bigg(\\frac{z^{(pj)}}{\\tau_j^2} - \\frac{2(x^{(pj)} - \\mu_p)}{\\sigma^2} \\bigg)}{\\sum_{p=1}^{P} \\sum_{(y,z)} w_{(y^{(pj)}, z^{(pj)})}(\\frac{1}{\\tau_j^2} - \\frac{2}{\\sigma^2})}\n",
    "\\end{align*}"
   ]
  },
  {
   "cell_type": "markdown",
   "metadata": {},
   "source": [
    "setting to zero, we can get:\n",
    "\\begin{align*}\n",
    "\\tau_j^2 = \\frac{\\sum_{p=1}^{P} \\sum_{(y,z)} w_{(y^{(pj)}, z^{(pj)})} (z^{(pj)} - \\nu_j)^2}{\\sum_{p=1}^{P} \\sum_{(y,z)} w_{(y^{(pj)}, z^{(pj)})}}\n",
    "\\end{align*}"
   ]
  },
  {
   "cell_type": "markdown",
   "metadata": {},
   "source": [
    "put them all together:\n",
    "\n",
    "\\begin{align*}\n",
    "\\mu_i &= \\frac{\\sum_{r=1}^{R} \\sum_{(y,z)} w_{(y^{(ir)}, z^{(ir)})} \\bigg(\\frac{y^{(ir)}}{\\sigma_i^2} - \\frac{2 (x^{(ir)} - \\nu_r)}{\\sigma^2}\\bigg)}{\\sum_{r=1}^{R} \\sum_{(y,z)} w_{(y^{(ir)}, z^{(ir)})} (\\frac{1}{\\sigma_i^2} - \\frac{2}{\\sigma^2})}\n",
    "\\\\\n",
    "\\sigma_i^2 &= \\frac{\\sum_{r=1}^{R} \\sum_{(y,z)} w_{(y^{(ir)}, z^{(ir)})} (y^{(ir)} - \\mu_i)^2}{\\sum_{r=1}^{R} \\sum_{(y,z)} w_{(y^{(ir)}, z^{(ir)})}}\n",
    "\\\\\n",
    "\\nu_j &= \\frac{\\sum_{p=1}^{P} \\sum_{(y,z)} w_{(y^{(pj)}, z^{(pj)})}\\bigg(\\frac{z^{(pj)}}{\\tau_j^2} - \\frac{2(x^{(pj)} - \\mu_p)}{\\sigma^2} \\bigg)}{\\sum_{p=1}^{P} \\sum_{(y,z)} w_{(y^{(pj)}, z^{(pj)})}(\\frac{1}{\\tau_j^2} - \\frac{2}{\\sigma^2})}\n",
    "\\\\\n",
    "\\tau_j^2 &= \\frac{\\sum_{p=1}^{P} \\sum_{(y,z)} w_{(y^{(pj)}, z^{(pj)})} (z^{(pj)} - \\nu_j)^2}{\\sum_{p=1}^{P} \\sum_{(y,z)} w_{(y^{(pj)}, z^{(pj)})}}\n",
    "\\end{align*}"
   ]
  },
  {
   "cell_type": "code",
   "execution_count": null,
   "metadata": {},
   "outputs": [],
   "source": []
  }
 ],
 "metadata": {
  "kernelspec": {
   "display_name": "Python 3",
   "language": "python",
   "name": "python3"
  },
  "language_info": {
   "codemirror_mode": {
    "name": "ipython",
    "version": 3
   },
   "file_extension": ".py",
   "mimetype": "text/x-python",
   "name": "python",
   "nbconvert_exporter": "python",
   "pygments_lexer": "ipython3",
   "version": "3.6.7"
  }
 },
 "nbformat": 4,
 "nbformat_minor": 2
}

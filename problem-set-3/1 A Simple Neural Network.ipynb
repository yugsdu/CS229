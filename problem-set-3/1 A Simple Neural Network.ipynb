{
 "cells": [
  {
   "cell_type": "markdown",
   "metadata": {},
   "source": [
    "#### !! The answer comes from “zyxue/stanford-cs229”"
   ]
  },
  {
   "cell_type": "markdown",
   "metadata": {},
   "source": [
    "## A simple neural network"
   ]
  },
  {
   "cell_type": "markdown",
   "metadata": {},
   "source": [
    "## (a) derivate the weights"
   ]
  },
  {
   "cell_type": "markdown",
   "metadata": {},
   "source": [
    "we know that the gradient for sigmoid function $$\\sigma (z)=\\frac {1}{1+e^{(-z)}}$$ is $$\\frac {\\partial \\sigma}{\\partial z}=\\sigma (z)\\sigma(1-z)$$"
   ]
  },
  {
   "cell_type": "markdown",
   "metadata": {},
   "source": [
    "based on this, we can derivate that:\n",
    "\\begin{align*}\n",
    "\\frac{\\partial l}{\\partial w_{1,2}^{[1]}} \n",
    "&= \\frac{\\partial l}{\\partial o} \\frac{\\partial o}{\\partial z^o} \\frac{\\partial z^o}{\\partial h_2} \\frac{\\partial h_2}{\\partial z^{h_2}} \\frac{\\partial z^{h_2}}{\\partial w_{1,2}^{[1]}}\n",
    "\\\\\n",
    "&= \\frac{1}{m} \\sum_{i}^{m} 2o^{(i)} o^{(i)}(1 - o^{(i)}) w_2^{[2]} h_2(1 - h_2) x_1^{(i)}\n",
    "\\end{align*}    "
   ]
  },
  {
   "cell_type": "markdown",
   "metadata": {},
   "source": [
    "## (b) one of the weithg to classify the dataset with 100% accuracy\n"
   ]
  },
  {
   "cell_type": "markdown",
   "metadata": {},
   "source": [
    "$$\n",
    "\\begin{bmatrix}\n",
    " -1 & 5 & 0 \\\\ \n",
    " -1 & 0 & 5 \\\\ \n",
    " 4.2 & -1 & -1\n",
    "\\end{bmatrix} \\begin{bmatrix}\n",
    "1 \\\\\n",
    "x_1 \\\\\n",
    "x_2 \n",
    "\\end{bmatrix}\n",
    "$$"
   ]
  },
  {
   "cell_type": "markdown",
   "metadata": {},
   "source": [
    "## (c) linear activation"
   ]
  },
  {
   "cell_type": "markdown",
   "metadata": {},
   "source": [
    "no. if the activation functions for $h_{1}$,$h_{2}$,$h_{3}$ are linear funcitons, there is no specific set of weights that will make the loss 0. The datasets are not linearly classified, so stacked linear layers will not work"
   ]
  },
  {
   "cell_type": "code",
   "execution_count": null,
   "metadata": {},
   "outputs": [],
   "source": []
  }
 ],
 "metadata": {
  "kernelspec": {
   "display_name": "Python 3",
   "language": "python",
   "name": "python3"
  },
  "language_info": {
   "codemirror_mode": {
    "name": "ipython",
    "version": 3
   },
   "file_extension": ".py",
   "mimetype": "text/x-python",
   "name": "python",
   "nbconvert_exporter": "python",
   "pygments_lexer": "ipython3",
   "version": "3.6.7"
  }
 },
 "nbformat": 4,
 "nbformat_minor": 2
}
